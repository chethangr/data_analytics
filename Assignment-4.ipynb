{
 "cells": [
  {
   "cell_type": "markdown",
   "id": "19e29f65",
   "metadata": {},
   "source": [
    "1. To use the ribbon commands, what menu and grouping of commands will you\n",
    "find the Insert and Delete command?"
   ]
  },
  {
   "cell_type": "markdown",
   "id": "a4075035",
   "metadata": {},
   "source": [
    "It can be found under Home>>Cells"
   ]
  },
  {
   "cell_type": "markdown",
   "id": "a973daa8",
   "metadata": {},
   "source": [
    "2. If you set a row height or column width to 0 (zero), what happens to the row and\n",
    "column?"
   ]
  },
  {
   "cell_type": "markdown",
   "id": "414c21e5",
   "metadata": {},
   "source": [
    "The row and column will be hidden"
   ]
  },
  {
   "cell_type": "markdown",
   "id": "13a6e466",
   "metadata": {},
   "source": [
    "3. Is there a need to change the height and width in a cell? Why?"
   ]
  },
  {
   "cell_type": "markdown",
   "id": "7cf793ec",
   "metadata": {},
   "source": [
    "It is necessary to change width and height in excel to fit the data. Excel by default provide equal width and height with respect to columns and rows. Whenever we enter a lengthy data, few characters will get displayed and other will be present inside the cell but will be hidden to the user"
   ]
  },
  {
   "cell_type": "markdown",
   "id": "6cfb6951",
   "metadata": {},
   "source": [
    "4. What is the keyboard shortcut to unhide rows?"
   ]
  },
  {
   "cell_type": "markdown",
   "id": "8590eda6",
   "metadata": {},
   "source": [
    "Ctrl+Shift+("
   ]
  },
  {
   "cell_type": "markdown",
   "id": "7a3ac133",
   "metadata": {},
   "source": [
    "5. How to hide rows containing blank cells?"
   ]
  },
  {
   "cell_type": "markdown",
   "id": "32890e4d",
   "metadata": {},
   "source": [
    "Select the data range which contains the blank cells you want to hide.\n",
    "Then click Home > Find & Select > Go To Special.\n",
    "And in the Go To Special dialog, select Blanks option, and then click OK button."
   ]
  },
  {
   "cell_type": "markdown",
   "id": "3424f944",
   "metadata": {},
   "source": [
    "6. What are the steps to hide the duplicate values using conditional formatting in\n",
    "excel?"
   ]
  },
  {
   "cell_type": "markdown",
   "id": "88058559",
   "metadata": {},
   "source": [
    "Select the cells you want to check for duplicates.\n",
    "Click Home > Conditional Formatting > Highlight Cells Rules > Duplicate Values.\n",
    "In the box next to values with, pick the formatting you want to apply to the duplicate values, and then click OK."
   ]
  }
 ],
 "metadata": {
  "kernelspec": {
   "display_name": "Python 3 (ipykernel)",
   "language": "python",
   "name": "python3"
  },
  "language_info": {
   "codemirror_mode": {
    "name": "ipython",
    "version": 3
   },
   "file_extension": ".py",
   "mimetype": "text/x-python",
   "name": "python",
   "nbconvert_exporter": "python",
   "pygments_lexer": "ipython3",
   "version": "3.9.7"
  }
 },
 "nbformat": 4,
 "nbformat_minor": 5
}
