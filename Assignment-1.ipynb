{
 "cells": [
  {
   "cell_type": "markdown",
   "id": "20514617",
   "metadata": {},
   "source": [
    "1. What do you mean by cells in an excel sheet?"
   ]
  },
  {
   "cell_type": "markdown",
   "id": "cc831b54",
   "metadata": {},
   "source": [
    " A cell is an intersection of a column and a row."
   ]
  },
  {
   "cell_type": "markdown",
   "id": "87182756",
   "metadata": {},
   "source": [
    "2. How can you restrict someone from copying a cell from your worksheet?"
   ]
  },
  {
   "cell_type": "markdown",
   "id": "f2029e3b",
   "metadata": {},
   "source": [
    "To protect the worksheet from getting copied, you need to go into Menu bar >Review > Protect sheet > Password. By entering password, you can secure your worksheet from getting copied by others."
   ]
  },
  {
   "cell_type": "markdown",
   "id": "cc5599a6",
   "metadata": {},
   "source": [
    "3. How to move or copy the worksheet into another workbook?"
   ]
  },
  {
   "cell_type": "markdown",
   "id": "4b16e792",
   "metadata": {},
   "source": [
    "1. Right click on the worksheet tab and select Move or Copy.\n",
    "\n",
    "2. Select the Create a copy checkbox.\n",
    "\n",
    "3. Under Before sheet, select where you want to place the copy.\n",
    "\n",
    "4. Select OK."
   ]
  },
  {
   "cell_type": "markdown",
   "id": "3771940e",
   "metadata": {},
   "source": [
    "4. Which key is used as a shortcut for opening a new window document?"
   ]
  },
  {
   "cell_type": "markdown",
   "id": "7b4a9ad5",
   "metadata": {},
   "source": [
    "Ctrl+N"
   ]
  },
  {
   "cell_type": "markdown",
   "id": "be2b123b",
   "metadata": {},
   "source": [
    "5. What are the things that we can notice after opening the Excel interface?"
   ]
  },
  {
   "cell_type": "markdown",
   "id": "27a1f587",
   "metadata": {},
   "source": [
    "An empty worksheet and the header will have File, Home, Page Layout, Formulas, Data, Review, View, Help which will provide different options to perform a set of operations"
   ]
  },
  {
   "cell_type": "markdown",
   "id": "e66926ae",
   "metadata": {},
   "source": [
    "6. When to use a relative cell reference in excel?"
   ]
  },
  {
   "cell_type": "markdown",
   "id": "137c9abc",
   "metadata": {},
   "source": [
    "Relative references can be used whenever we need to repeat the same calculation across multiple rows or columns."
   ]
  }
 ],
 "metadata": {
  "kernelspec": {
   "display_name": "Python 3 (ipykernel)",
   "language": "python",
   "name": "python3"
  },
  "language_info": {
   "codemirror_mode": {
    "name": "ipython",
    "version": 3
   },
   "file_extension": ".py",
   "mimetype": "text/x-python",
   "name": "python",
   "nbconvert_exporter": "python",
   "pygments_lexer": "ipython3",
   "version": "3.9.7"
  }
 },
 "nbformat": 4,
 "nbformat_minor": 5
}
