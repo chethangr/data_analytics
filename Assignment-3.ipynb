{
 "cells": [
  {
   "cell_type": "markdown",
   "id": "d44dd059",
   "metadata": {},
   "source": [
    "1. How and when to use the AutoSum command in excel?"
   ]
  },
  {
   "cell_type": "markdown",
   "id": "b1b20c24",
   "metadata": {},
   "source": [
    "AutoSum works best when you have a column or row of numbers you want to add up. \n",
    "\n",
    "1. Click the cell under a column of numbers you want to add\n",
    "\n",
    "2. On the Home tab, click the AutoSum button (sigma sign) in the ribbon.\n",
    "\n",
    "3. You should see Excel draw a selection box around the numbers to be added. If the wrong numbers are selected, you can click and drag the mouse to choose the correct cells."
   ]
  },
  {
   "cell_type": "markdown",
   "id": "6bc7c76a",
   "metadata": {},
   "source": [
    "2. What is the shortcut key to perform AutoSum?"
   ]
  },
  {
   "cell_type": "markdown",
   "id": "b243274a",
   "metadata": {},
   "source": [
    "ALT= is the shortcut"
   ]
  },
  {
   "cell_type": "markdown",
   "id": "dc8bb183",
   "metadata": {},
   "source": [
    "3. How do you get rid of Formula that omits adjacent cells?"
   ]
  },
  {
   "cell_type": "markdown",
   "id": "17c93422",
   "metadata": {},
   "source": [
    "Open Excel and then click on File.\n",
    "Go to Options and then select Formulas.\n",
    "Look for Error checking rules and uncheck Formulas which omit cells in a region.\n",
    "Click OK."
   ]
  },
  {
   "cell_type": "markdown",
   "id": "93fc298b",
   "metadata": {},
   "source": [
    "4. How do you select non-adjacent cells in Excel 2016?"
   ]
  },
  {
   "cell_type": "markdown",
   "id": "aa4633cd",
   "metadata": {},
   "source": [
    "To select non-adjacent cells and cell ranges, hold Ctrl and select the cells."
   ]
  },
  {
   "cell_type": "markdown",
   "id": "cfc160ac",
   "metadata": {},
   "source": [
    "5. What happens if you choose a column, hold down the Alt key and press the letters\n",
    "ocw in quick succession?"
   ]
  },
  {
   "cell_type": "markdown",
   "id": "44202492",
   "metadata": {},
   "source": [
    "The column width dialogue box opens allowing you to set the exact width of the column."
   ]
  },
  {
   "cell_type": "markdown",
   "id": "2a855df9",
   "metadata": {},
   "source": [
    "6. If you right-click on a row reference number and click on Insert, where will the row\n",
    "be added?"
   ]
  },
  {
   "cell_type": "code",
   "execution_count": null,
   "id": "718e7d2d",
   "metadata": {},
   "outputs": [],
   "source": [
    "The row will be added above that particular cell"
   ]
  }
 ],
 "metadata": {
  "kernelspec": {
   "display_name": "Python 3 (ipykernel)",
   "language": "python",
   "name": "python3"
  },
  "language_info": {
   "codemirror_mode": {
    "name": "ipython",
    "version": 3
   },
   "file_extension": ".py",
   "mimetype": "text/x-python",
   "name": "python",
   "nbconvert_exporter": "python",
   "pygments_lexer": "ipython3",
   "version": "3.9.7"
  }
 },
 "nbformat": 4,
 "nbformat_minor": 5
}
