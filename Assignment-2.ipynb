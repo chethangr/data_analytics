{
 "cells": [
  {
   "cell_type": "markdown",
   "id": "e3addb10",
   "metadata": {},
   "source": [
    "1. What does the dollar($) sign do?"
   ]
  },
  {
   "cell_type": "markdown",
   "id": "e7f60a87",
   "metadata": {},
   "source": [
    "The dollar sign fixes the reference to a given cell, so that it remains unchanged no matter where the formula moves."
   ]
  },
  {
   "cell_type": "markdown",
   "id": "6460e8cf",
   "metadata": {},
   "source": [
    "2. How to Change the Reference from Relative to Absolute (or Mixed)?"
   ]
  },
  {
   "cell_type": "markdown",
   "id": "5dbb44e0",
   "metadata": {},
   "source": [
    "By pressing the F4 key,the cell reference changes from A1 to $A$1 (becomes 'absolute' from 'relative')."
   ]
  },
  {
   "cell_type": "markdown",
   "id": "78d1c5d6",
   "metadata": {},
   "source": [
    "3. Explain the order of operations in excel?"
   ]
  },
  {
   "cell_type": "markdown",
   "id": "1c419948",
   "metadata": {},
   "source": [
    "Excel's order of operation follows the acronym PEMDAS (Parentheses, Exponents, Multiplication, Division, Addition, Subtraction)."
   ]
  },
  {
   "cell_type": "markdown",
   "id": "1ddcd6e8",
   "metadata": {},
   "source": [
    "4. What, according to you, are the top 5 functions in excel and write a basic syntax for any of two?"
   ]
  },
  {
   "cell_type": "markdown",
   "id": "8a264dcc",
   "metadata": {},
   "source": [
    "The SUM Function\n",
    "The TEXT Function\n",
    "The VLOOKUP Function\n",
    "The AVERAGE Function\n",
    "The CONCATENATE Function\n",
    "\n",
    "=sum(A1:A10)\n",
    "=VLOOKUP (C10, A4:B8, 2, FALSE)"
   ]
  },
  {
   "cell_type": "markdown",
   "id": "0a7efdba",
   "metadata": {},
   "source": [
    "5. When would you use the subtotal function?"
   ]
  },
  {
   "cell_type": "markdown",
   "id": "dd1e7154",
   "metadata": {},
   "source": [
    "The SUBTOTAL function is used when we want to display a Total row in an Excel Table."
   ]
  },
  {
   "cell_type": "markdown",
   "id": "e3c0244a",
   "metadata": {},
   "source": [
    "6. What is the syntax of the vlookup function? Explain the terms in it?"
   ]
  },
  {
   "cell_type": "markdown",
   "id": "29a520cd",
   "metadata": {},
   "source": [
    "=VLOOKUP(lookup value, range containing the lookup value, the column number in the range containing the return value, Approximate match (TRUE) or Exact match (FALSE)).\n",
    "\n",
    "1. The value you want to look up, also called the lookup value.\n",
    "\n",
    "2. The range where the lookup value is located. Remember that the lookup value should always be in the first column in the range for VLOOKUP to work correctly. For example, if your lookup value is in cell C2 then your range should start with C.\n",
    "\n",
    "3. The column number in the range that contains the return value. For example, if you specify B2:D11 as the range, you should count B as the first column, C as the second, and so on.\n",
    "\n",
    "4. Optionally, you can specify TRUE if you want an approximate match or FALSE if you want an exact match of the return value. If you don't specify anything, the default value will always be TRUE or approximate match."
   ]
  }
 ],
 "metadata": {
  "kernelspec": {
   "display_name": "Python 3 (ipykernel)",
   "language": "python",
   "name": "python3"
  },
  "language_info": {
   "codemirror_mode": {
    "name": "ipython",
    "version": 3
   },
   "file_extension": ".py",
   "mimetype": "text/x-python",
   "name": "python",
   "nbconvert_exporter": "python",
   "pygments_lexer": "ipython3",
   "version": "3.9.7"
  }
 },
 "nbformat": 4,
 "nbformat_minor": 5
}
