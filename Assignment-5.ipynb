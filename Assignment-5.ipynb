{
 "cells": [
  {
   "cell_type": "raw",
   "id": "6f5dddab",
   "metadata": {},
   "source": [
    "1. How many types of conditions are available in conditional formatting on Excel?"
   ]
  },
  {
   "cell_type": "raw",
   "id": "d102f06d",
   "metadata": {},
   "source": [
    "Background Color Shading (of cells)\n",
    "Foreground Color Shading (of fonts)\n",
    "Data Bars.\n",
    "Icons (which have 4 different image types)\n",
    "Values."
   ]
  },
  {
   "cell_type": "raw",
   "id": "745e7c7e",
   "metadata": {},
   "source": [
    "2. How to insert border in Excel with Format Cells dialog?"
   ]
  },
  {
   "cell_type": "raw",
   "id": "b7664ab0",
   "metadata": {},
   "source": [
    "1. Select one or more cells to which you'd like to add borders.\n",
    "\n",
    "2. Open the Format Cells dialog box by doing one of the following:\n",
    "     Click the down arrow next to the Borders button, and then click More Borders at the bottom of the drop-down list.\n",
    "     Right click the selected cells and choose Format Cells… from the context menu.\n",
    "     \n",
    "3. In the Format Cells dialog box, switch to the Border tab and choose the line style and color first. And then, either use Presets to add the outside or inside borders or construct the desired border by selecting individual elements such as border top, bottom, right or left. The preview diagram will reflect the changes immediately.\n",
    "\n",
    "4. When done, click OK."
   ]
  },
  {
   "cell_type": "raw",
   "id": "1f6755ee",
   "metadata": {},
   "source": [
    "3. How to Format Numbers as Currency in Excel?"
   ]
  },
  {
   "cell_type": "raw",
   "id": "df64b8b3",
   "metadata": {},
   "source": [
    "1. Select the cells that you want to format and then, in the Number group on the Home tab, click the down arrow in the Number Format box.\n",
    "2. Choose either Currency or Accounting."
   ]
  },
  {
   "cell_type": "raw",
   "id": "a5f34d18",
   "metadata": {},
   "source": [
    "4. What are the steps to format numbers in Excel with the Percent style?"
   ]
  },
  {
   "cell_type": "raw",
   "id": "0b47232f",
   "metadata": {},
   "source": [
    "On the Home tab, in the Number group, click the icon next to Number to display the Format Cells dialog box. In the Format Cells dialog box, in the Category list, click Percentage."
   ]
  },
  {
   "cell_type": "raw",
   "id": "13620980",
   "metadata": {},
   "source": [
    "5. What is a shortcut to merge two or more cells in excel?"
   ]
  },
  {
   "cell_type": "raw",
   "id": "b55ea564",
   "metadata": {},
   "source": [
    "ALT H+M+M"
   ]
  },
  {
   "cell_type": "raw",
   "id": "20febe05",
   "metadata": {},
   "source": [
    "6. How do you use text commands in Excel?"
   ]
  },
  {
   "cell_type": "markdown",
   "id": "b6d7e7fc",
   "metadata": {},
   "source": [
    "1.Left()\n",
    "You can use the Left function when you want to extract the leftmost characters from a string. Syntax =left(text, num_char)\n",
    "\n",
    "2.  Len ()\n",
    "Len function in Excel helps you to know the length of a string that is number of characters in a string. Syntax = LEN(text)\n",
    "\n",
    "\n",
    "3.  Mid ()\n",
    "Mid function in Excel is used to extract the characters from the middle of a string. Syntax = MID(text, start_char, num_chars)\n",
    "\n",
    "\n",
    "4.  Find ()\n",
    "Find function in Excel is used when you want to know the position of certain characters in a particular string. Syntax =FIND(find_text, within_text,[start_num])\n",
    "\n",
    "5.  Proper ()\n",
    "Proper function in Excel capitalizes each word in the string that is, it converts the case into proper case. Syntax =PROPER(Text)\n",
    "\n",
    "6.  Rept ()\n",
    "Rept function in Excel is used when you want a certain text to be repeated certain number of times. Syntax =REPT(Text, number_times)\n",
    "\n",
    "7. Trim()\n",
    "Trim function in Excel removes the unnecessary spaces from a particular string.\n",
    "Syntax =TRIM(Text )\n",
    "\n",
    "8.  Upper()\n",
    "Upper function in Excel converts the text into Upper case from lower case. Syntax =UPPER(Text )\n",
    "\n",
    "9.  Substitute ()\n",
    "Substitute function in Excel helps to replace existing text with a new text in a particular string. Syntax =SUBSTITUTE(text, old_text, new_text, instance number)\n",
    "\n",
    "10.  Concatenate ()\n",
    "Concatenate function in Excel helps to join the text of two or more cells. Syntax =CONCATENATE(text1, text2….)"
   ]
  }
 ],
 "metadata": {
  "kernelspec": {
   "display_name": "Python 3 (ipykernel)",
   "language": "python",
   "name": "python3"
  },
  "language_info": {
   "codemirror_mode": {
    "name": "ipython",
    "version": 3
   },
   "file_extension": ".py",
   "mimetype": "text/x-python",
   "name": "python",
   "nbconvert_exporter": "python",
   "pygments_lexer": "ipython3",
   "version": "3.9.7"
  }
 },
 "nbformat": 4,
 "nbformat_minor": 5
}
